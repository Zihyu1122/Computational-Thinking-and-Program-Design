{
  "nbformat": 4,
  "nbformat_minor": 0,
  "metadata": {
    "colab": {
      "name": "week13-A108060024-陳姿妤.ipynb",
      "provenance": []
    },
    "kernelspec": {
      "name": "python3",
      "display_name": "Python 3"
    }
  },
  "cells": [
    {
      "cell_type": "code",
      "metadata": {
        "id": "9aYRMN46QAfS",
        "colab_type": "code",
        "colab": {
          "base_uri": "https://localhost:8080/",
          "height": 52
        },
        "outputId": "82cbf54b-a7b2-4ea0-cc75-4fbfcb4ca3f9"
      },
      "source": [
        "score = int(input(\"請輸入成績: \"))\n",
        "if score >= 80 :    \n",
        "    print(\"非常好\") \n",
        "elif score >= 60 :   \n",
        "    print(\"不錯喔\")\n",
        "else:\n",
        "    print(\"要加油\")   \n",
        "\n"
      ],
      "execution_count": 7,
      "outputs": [
        {
          "output_type": "stream",
          "text": [
            "請輸入成績: 75\n",
            "不錯喔\n"
          ],
          "name": "stdout"
        }
      ]
    },
    {
      "cell_type": "code",
      "metadata": {
        "id": "CUtVr6bpQFyk",
        "colab_type": "code",
        "colab": {
          "base_uri": "https://localhost:8080/",
          "height": 52
        },
        "outputId": "f703ef14-6def-4491-c77b-1c6d5d0d4673"
      },
      "source": [
        "score = int(input(\"請輸入成績\"))\n",
        "if score < 60 :    print(\"要加油\")\n",
        "if 80 > score >= 60 :    print(\"不錯喔\")\n",
        "if score >= 80 :    print(\"非常好\")\n",
        "                  "
      ],
      "execution_count": 9,
      "outputs": [
        {
          "output_type": "stream",
          "text": [
            "請輸入成績50\n",
            "要加油\n"
          ],
          "name": "stdout"
        }
      ]
    },
    {
      "cell_type": "code",
      "metadata": {
        "id": "ksKYKh5-UANQ",
        "colab_type": "code",
        "colab": {
          "base_uri": "https://localhost:8080/",
          "height": 52
        },
        "outputId": "cdb51186-789a-4ccc-e780-2ccdf6a36910"
      },
      "source": [
        "score = int(input(\"請輸入成績: \"))\n",
        "if score >= 80 :    \n",
        "    print(\"非常好\") \n",
        "else: \n",
        "  \n",
        "    if score >= 60 :   \n",
        "        print(\"不錯喔\")\n",
        "    else:\n",
        "        print(\"要加油\")   "
      ],
      "execution_count": 12,
      "outputs": [
        {
          "output_type": "stream",
          "text": [
            "請輸入成績: 90\n",
            "非常好\n"
          ],
          "name": "stdout"
        }
      ]
    },
    {
      "cell_type": "code",
      "metadata": {
        "id": "QKv-LPSSVYL0",
        "colab_type": "code",
        "colab": {}
      },
      "source": [
        ""
      ],
      "execution_count": 0,
      "outputs": []
    }
  ]
}