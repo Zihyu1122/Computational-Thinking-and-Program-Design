{
  "nbformat": 4,
  "nbformat_minor": 0,
  "metadata": {
    "colab": {
      "name": "week14-A108060024-陳姿妤.ipynb",
      "provenance": []
    },
    "kernelspec": {
      "name": "python3",
      "display_name": "Python 3"
    }
  },
  "cells": [
    {
      "cell_type": "code",
      "metadata": {
        "id": "-nj-mGvitGJj",
        "colab_type": "code",
        "colab": {
          "base_uri": "https://localhost:8080/",
          "height": 87
        },
        "outputId": "ca2ef353-2660-4e08-ea4f-9d56e0017ab5"
      },
      "source": [
        "weight = float(input(\"Enter Your Wieght(KG)\"))\n",
        "height = float(input(\"Enter Your Hieght(M)\"))\n",
        "\n",
        "bmi = weight / (height * height)\n",
        "\n",
        "print(\"bmi指數為\", bmi)\n",
        "\n",
        "if bmi < 18 :\n",
        "   print(\"Underweight\")\n",
        "elif bmi < 24 :\n",
        "   print(\"Normal\")\n",
        "elif bmi < 27 :\n",
        "   print(\"Overweight\")\n",
        "else :\n",
        "  print(\"Obesity\")\n"
      ],
      "execution_count": 2,
      "outputs": [
        {
          "output_type": "stream",
          "text": [
            "Enter Your Wieght(KG)42\n",
            "Enter Your Hieght(M)1.6\n",
            "bmi指數為 16.406249999999996\n",
            "Underweight\n"
          ],
          "name": "stdout"
        }
      ]
    },
    {
      "cell_type": "code",
      "metadata": {
        "id": "lu6q1pIqvhd3",
        "colab_type": "code",
        "colab": {
          "base_uri": "https://localhost:8080/",
          "height": 191
        },
        "outputId": "27679039-216d-4de0-93e0-44d3c179ac5b"
      },
      "source": [
        "n = 0\n",
        "while n < 10 :\n",
        "   print(\"hello\")\n",
        "   n = n + 1"
      ],
      "execution_count": 3,
      "outputs": [
        {
          "output_type": "stream",
          "text": [
            "hello\n",
            "hello\n",
            "hello\n",
            "hello\n",
            "hello\n",
            "hello\n",
            "hello\n",
            "hello\n",
            "hello\n",
            "hello\n"
          ],
          "name": "stdout"
        }
      ]
    },
    {
      "cell_type": "code",
      "metadata": {
        "id": "Y8cYQMcRxQJO",
        "colab_type": "code",
        "colab": {}
      },
      "source": [
        ""
      ],
      "execution_count": 0,
      "outputs": []
    }
  ]
}