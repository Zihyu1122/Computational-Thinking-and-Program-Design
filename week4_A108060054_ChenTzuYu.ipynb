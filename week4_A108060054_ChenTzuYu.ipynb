{
  "nbformat": 4,
  "nbformat_minor": 0,
  "metadata": {
    "colab": {
      "name": "week4-A108060054-ChenTzuYu.ipynb",
      "provenance": []
    },
    "kernelspec": {
      "name": "python3",
      "display_name": "Python 3"
    }
  },
  "cells": [
    {
      "cell_type": "code",
      "metadata": {
        "id": "NULU0v8w1qh6",
        "colab_type": "code",
        "outputId": "4470e86a-7805-41d5-8595-b8320b63296b",
        "colab": {
          "base_uri": "https://localhost:8080/",
          "height": 34
        }
      },
      "source": [
        "print(\"hello world\")"
      ],
      "execution_count": 0,
      "outputs": [
        {
          "output_type": "stream",
          "text": [
            "hello world\n"
          ],
          "name": "stdout"
        }
      ]
    },
    {
      "cell_type": "code",
      "metadata": {
        "id": "N9Ff0Wr1-QY5",
        "colab_type": "code",
        "colab": {
          "base_uri": "https://localhost:8080/",
          "height": 35
        },
        "outputId": "5c35bddf-7b80-4877-e65b-d1f01c4b41f3"
      },
      "source": [
        "print(\"你好嗎\")"
      ],
      "execution_count": 1,
      "outputs": [
        {
          "output_type": "stream",
          "text": [
            "你好嗎\n"
          ],
          "name": "stdout"
        }
      ]
    },
    {
      "cell_type": "code",
      "metadata": {
        "id": "1IN7CBLP_7AZ",
        "colab_type": "code",
        "colab": {
          "base_uri": "https://localhost:8080/",
          "height": 52
        },
        "outputId": "4b8e0005-c846-4998-b052-a76e1e1de9b9"
      },
      "source": [
        "print(\"Hello World\")\n",
        "print(\"你好嗎\")"
      ],
      "execution_count": 2,
      "outputs": [
        {
          "output_type": "stream",
          "text": [
            "Hello World\n",
            "你好嗎\n"
          ],
          "name": "stdout"
        }
      ]
    },
    {
      "cell_type": "code",
      "metadata": {
        "id": "XW4x2DpGAQ9P",
        "colab_type": "code",
        "colab": {
          "base_uri": "https://localhost:8080/",
          "height": 35
        },
        "outputId": "86056f4d-61a6-4454-d034-5f5bb0c7d9f5"
      },
      "source": [
        "print(\"你好嗎<我是陳姿妤\")"
      ],
      "execution_count": 4,
      "outputs": [
        {
          "output_type": "stream",
          "text": [
            "你好嗎<我是陳姿妤\n"
          ],
          "name": "stdout"
        }
      ]
    },
    {
      "cell_type": "code",
      "metadata": {
        "id": "p1T-I3dnAlG3",
        "colab_type": "code",
        "colab": {
          "base_uri": "https://localhost:8080/",
          "height": 35
        },
        "outputId": "996e2868-4976-4ce7-bf3d-8d03c4e6b8b4"
      },
      "source": [
        "print(\"你好嗎<我是陳姿妤\")"
      ],
      "execution_count": 5,
      "outputs": [
        {
          "output_type": "stream",
          "text": [
            "你好嗎<我是陳姿妤\n"
          ],
          "name": "stdout"
        }
      ]
    }
  ]
}