{
  "nbformat": 4,
  "nbformat_minor": 0,
  "metadata": {
    "colab": {
      "name": "week12-A108060024-陳姿妤.ipynb",
      "provenance": []
    },
    "kernelspec": {
      "name": "python3",
      "display_name": "Python 3"
    }
  },
  "cells": [
    {
      "cell_type": "code",
      "metadata": {
        "id": "XEEEq-T96Hzx",
        "colab_type": "code",
        "colab": {
          "base_uri": "https://localhost:8080/",
          "height": 90
        },
        "outputId": "dd01dc05-f208-48fb-ecaa-bcbbc0f89d0e"
      },
      "source": [
        "noodle = input(\"有麵嗎?(YES/NO)\")\n",
        "sauce = input(\"有醬料嗎?(YES/NO)\")\n",
        "\n",
        "\n",
        "if noodle == \"YES\":  \n",
        "     if sauce == \"YES\":\n",
        "         print(\"可做義大利麵!\")\n",
        "\n",
        "print(\"well done!\") "
      ],
      "execution_count": 2,
      "outputs": [
        {
          "output_type": "stream",
          "text": [
            "有面嗎?(YES/NO)YES\n",
            "有醬料嗎?(YES/NO)YES\n",
            "可做義大利麵!\n",
            "well done!\n"
          ],
          "name": "stdout"
        }
      ]
    },
    {
      "cell_type": "code",
      "metadata": {
        "id": "qJH2cFUm6JMh",
        "colab_type": "code",
        "colab": {
          "base_uri": "https://localhost:8080/",
          "height": 90
        },
        "outputId": "88f90a5a-7e67-4bcc-dce4-9e6c81958df8"
      },
      "source": [
        "noodle = input(\"有面嗎?(YES/NO)\")\n",
        "sauce = input(\"有醬料嗎?(YES/NO)\")\n",
        "\n",
        "\n",
        "if noodle == \"YES\" and sauce == \"YES\":\n",
        "         print(\"今晚吃義大利麵!\")\n",
        "\n",
        "print(\"well done!\") "
      ],
      "execution_count": 3,
      "outputs": [
        {
          "output_type": "stream",
          "text": [
            "有面嗎?(YES/NO)YES\n",
            "有醬料嗎?(YES/NO)YES\n",
            "今晚吃義大利麵!\n",
            "well done!\n"
          ],
          "name": "stdout"
        }
      ]
    },
    {
      "cell_type": "code",
      "metadata": {
        "id": "wZmndtQW6dL1",
        "colab_type": "code",
        "colab": {}
      },
      "source": [
        ""
      ],
      "execution_count": 0,
      "outputs": []
    }
  ]
}