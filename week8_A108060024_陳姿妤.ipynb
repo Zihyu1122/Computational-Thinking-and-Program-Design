{
  "nbformat": 4,
  "nbformat_minor": 0,
  "metadata": {
    "colab": {
      "name": "week8-A108060024-陳姿妤",
      "provenance": []
    },
    "kernelspec": {
      "name": "python3",
      "display_name": "Python 3"
    }
  },
  "cells": [
    {
      "cell_type": "code",
      "metadata": {
        "id": "hWonZJiWu3Tc",
        "colab_type": "code",
        "colab": {
          "base_uri": "https://localhost:8080/",
          "height": 153
        },
        "outputId": "2b178b21-9ef5-4724-cdbe-f48e955ff4fc"
      },
      "source": [
        "hours = input(\"Enter movie time hour: \")\n",
        "minutes = input(\"Enter movie time minute: \")\n",
        "\n",
        "hours = int(hours)\n",
        "minutes = int(minutes)\n",
        "\n",
        "length = hours * 60 + minutes\n",
        "print(\"Hours\", minutes,\"Movie length is\", length)\n",
        "\n",
        "print(length)\n",
        "hours1 = length / 60 \n",
        "print(hours1)\n",
        "hours2 = int(hours1)\n",
        "print(hours2)\n",
        "\n",
        "minutes1 = (hours1 - hours2) * 60\n",
        "minutes2 = round(minutes1)\n",
        "print(minutes2)\n",
        "print(length,\"Minutes equals\",hours2,\"Hours\",minutes2,\"Minutes\")"
      ],
      "execution_count": 17,
      "outputs": [
        {
          "output_type": "stream",
          "text": [
            "Enter movie time hour: 2\n",
            "Enter movie time minute: 13\n",
            "Hours 13 Movie length is 133\n",
            "133\n",
            "2.216666666666667\n",
            "2\n",
            "13\n",
            "133 Minutes equals 2 Hours 13 Minutes\n"
          ],
          "name": "stdout"
        }
      ]
    },
    {
      "cell_type": "code",
      "metadata": {
        "id": "p4nx-nTfwBWk",
        "colab_type": "code",
        "colab": {}
      },
      "source": [
        ""
      ],
      "execution_count": 0,
      "outputs": []
    }
  ]
}