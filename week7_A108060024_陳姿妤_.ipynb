{
  "nbformat": 4,
  "nbformat_minor": 0,
  "metadata": {
    "colab": {
      "name": "week7-A108060024-陳姿妤..ipynb",
      "provenance": []
    },
    "kernelspec": {
      "name": "python3",
      "display_name": "Python 3"
    }
  },
  "cells": [
    {
      "cell_type": "code",
      "metadata": {
        "id": "folVrJcMqej-",
        "colab_type": "code",
        "outputId": "3c1f6443-fa51-4f68-d1bf-c4d00ca75c99",
        "colab": {
          "base_uri": "https://localhost:8080/",
          "height": 85
        }
      },
      "source": [
        "title = \"Itaewon class\" #韓國戲劇名稱\n",
        "release_year =\"2020\" #放映日期\n",
        "epiods = \"16\" #集數\n",
        "drama_time_min = 60\n",
        "drama_rating = 97 #評分\n",
        "sirector =\"金成允和姜敏九\" #導演\n",
        "stars_1 =\"朴敘俊\"  #主要演員\n",
        "stars_2 =\"金多美\"\n",
        "stars_3 = \"劉在明\"\n",
        "stars_4 = \"權娜拉\" \n",
        "like = 4 #我喜不喜歡\n",
        "print(title) #螢幕列印\n",
        "print(release_year)\n",
        "print(drama_time_min)\n",
        "print(drama_rating)"
      ],
      "execution_count": 4,
      "outputs": [
        {
          "output_type": "stream",
          "text": [
            "Itaewon class\n",
            "2020\n",
            "60\n",
            "97\n"
          ],
          "name": "stdout"
        }
      ]
    },
    {
      "cell_type": "code",
      "metadata": {
        "id": "LWen5dUIrGNn",
        "colab_type": "code",
        "colab": {}
      },
      "source": [
        ""
      ],
      "execution_count": 0,
      "outputs": []
    }
  ]
}